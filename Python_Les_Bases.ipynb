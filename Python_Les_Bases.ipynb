{
 "cells": [
  {
   "cell_type": "markdown",
   "metadata": {},
   "source": [
    "# Python Exercices Algorithmes\n"
   ]
  },
  {
   "cell_type": "markdown",
   "metadata": {},
   "source": [
    "#### Notes avant exercices"
   ]
  },
  {
   "cell_type": "code",
   "execution_count": 1,
   "metadata": {},
   "outputs": [
    {
     "name": "stdout",
     "output_type": "stream",
     "text": [
      "2\n"
     ]
    }
   ],
   "source": [
    "a=2\n",
    "print(a)"
   ]
  },
  {
   "cell_type": "code",
   "execution_count": 6,
   "metadata": {},
   "outputs": [
    {
     "data": {
      "text/plain": [
       "[0, 2, 4, 6, 8]"
      ]
     },
     "execution_count": 6,
     "metadata": {},
     "output_type": "execute_result"
    }
   ],
   "source": [
    "[ x for x in range(10) if x%2==0 ]"
   ]
  },
  {
   "cell_type": "markdown",
   "metadata": {},
   "source": [
    "#### Somme des Valeurs "
   ]
  },
  {
   "cell_type": "code",
   "execution_count": 9,
   "metadata": {},
   "outputs": [
    {
     "data": {
      "text/plain": [
       "20"
      ]
     },
     "execution_count": 9,
     "metadata": {},
     "output_type": "execute_result"
    }
   ],
   "source": [
    "l2 = [ x for x in range(10) if x%2==0 ]\n",
    "sum(l2) "
   ]
  },
  {
   "cell_type": "markdown",
   "metadata": {},
   "source": [
    "\n",
    "#### 1. Bases\n",
    "\n",
    "#### 1.5 Calcul"
   ]
  },
  {
   "cell_type": "code",
   "execution_count": 30,
   "metadata": {},
   "outputs": [
    {
     "name": "stdout",
     "output_type": "stream",
     "text": [
      "Entrez valeur : 5\n",
      "6\n",
      "7\n",
      "8\n",
      "9\n",
      "10\n",
      "11\n",
      "12\n",
      "13\n",
      "14\n",
      "15\n"
     ]
    }
   ],
   "source": [
    "num=0\n",
    "num = int(input(\"Entrez valeur : \"))\n",
    "for i in range(10) : #itérations of 10 so boucle gonna repeat 10 times\n",
    "    num=num+1\n",
    "    print(num)"
   ]
  },
  {
   "cell_type": "markdown",
   "metadata": {},
   "source": [
    "#### 1.6 Additivté"
   ]
  },
  {
   "cell_type": "code",
   "execution_count": 43,
   "metadata": {},
   "outputs": [
    {
     "name": "stdout",
     "output_type": "stream",
     "text": [
      "Entrez valeur : 20\n",
      "1\n",
      "2\n",
      "3\n",
      "4\n",
      "5\n",
      "6\n",
      "7\n",
      "8\n",
      "9\n",
      "10\n",
      "11\n",
      "12\n",
      "13\n",
      "14\n",
      "15\n",
      "16\n",
      "17\n",
      "18\n",
      "19\n"
     ]
    }
   ],
   "source": [
    "start=0\n",
    "num = int(input(\"Entrez valeur : \"))\n",
    "for i in range(1,num,1) : #itérations of 10 so boucle gonna repeat 10 times\n",
    "    start=start+1\n",
    "    if start==num :\n",
    "        print(start)\n",
    "        sys.exit()\n",
    "    else: \n",
    "        print(start)\n",
    "    "
   ]
  },
  {
   "cell_type": "markdown",
   "metadata": {},
   "source": [
    "#### 2. Les Tableaux\n",
    "  \n",
    "####    2.1. La Somme\n"
   ]
  },
  {
   "cell_type": "code",
   "execution_count": 1,
   "metadata": {},
   "outputs": [
    {
     "data": {
      "text/plain": [
       "15"
      ]
     },
     "execution_count": 1,
     "metadata": {},
     "output_type": "execute_result"
    }
   ],
   "source": [
    "l=[1,2,3,4,5]\n",
    "sum(l)"
   ]
  },
  {
   "cell_type": "markdown",
   "metadata": {},
   "source": [
    "####    2.2 La Somme : retour"
   ]
  },
  {
   "cell_type": "code",
   "execution_count": 1,
   "metadata": {},
   "outputs": [
    {
     "name": "stdout",
     "output_type": "stream",
     "text": [
      "Tab3 value :  3\n",
      "Tab3 value :  5\n",
      "Tab3 value :  6\n",
      "Tab3 value :  8\n",
      "Tab3 value :  10\n"
     ]
    }
   ],
   "source": [
    "tab1=[1,2,3,4,5]\n",
    "tab2=[2,3,3,4,5]\n",
    "tab3=[0,0,0,0,0]\n",
    "for i in range(len(tab3)):\n",
    "    tab3[i]=(tab1[i]+tab2[i])\n",
    "    print(\"Tab3 value : \",tab3[i])\n",
    "            \n",
    "\n"
   ]
  },
  {
   "cell_type": "raw",
   "metadata": {},
   "source": [
    "# Note sur les Ranges \n",
    "range(start,stop,step_size) , en défaut start = 0 , stop= valeur mis\n",
    "\n",
    "tab=[]\n",
    "\n",
    "[ i for i in range(5) ]\n",
    "\n",
    "it1 : [0]\n",
    "it2 : [0,1]\n",
    "it3 : [0,1,2]"
   ]
  },
  {
   "cell_type": "markdown",
   "metadata": {},
   "source": [
    "#### 2.3 FacProduit"
   ]
  },
  {
   "cell_type": "code",
   "execution_count": 9,
   "metadata": {},
   "outputs": [
    {
     "name": "stdout",
     "output_type": "stream",
     "text": [
      "Tab3 value :  2\n",
      "facproduit 2:\n",
      "Tab3 value :  6\n",
      "facproduit 8:\n",
      "Tab3 value :  9\n",
      "facproduit 17:\n",
      "Tab3 value :  16\n",
      "facproduit 33:\n",
      "Tab3 value :  25\n",
      "facproduit 58:\n"
     ]
    }
   ],
   "source": [
    "tab1=[1,2,3,4,5]\n",
    "tab2=[2,3,3,4,5]\n",
    "tab3=[0,0,0,0,0]\n",
    "facproduit =0\n",
    "for j in range(len(tab3)):\n",
    "    tab3[j]+=(tab1[j]*tab2[j])\n",
    "    print(\"Tab3 value : \",tab3[j]) \n",
    "    facproduit=sum(tab3)\n",
    "    print(\"facproduit : {0}\".format(facproduit))\n",
    "        \n",
    "            "
   ]
  },
  {
   "cell_type": "code",
   "execution_count": 23,
   "metadata": {},
   "outputs": [
    {
     "name": "stdout",
     "output_type": "stream",
     "text": [
      "85\n"
     ]
    }
   ],
   "source": [
    "def fp(t1:list,t2:list)->float:\n",
    "    i=0\n",
    "    b=0\n",
    "    for i in range(len(t1)):\n",
    "        b+=(t1[i]*t2[i])\n",
    "    return b\n",
    "\n",
    "\n",
    "t1 = [9,5,7]\n",
    "t2 = [4,7,2]\n",
    "\n",
    "facproduit=fp(t1,t2)\n",
    "\n",
    "print(facproduit)\n"
   ]
  },
  {
   "cell_type": "markdown",
   "metadata": {},
   "source": [
    "#### 2.4. Le plus grand\n"
   ]
  },
  {
   "cell_type": "code",
   "execution_count": 70,
   "metadata": {},
   "outputs": [
    {
     "name": "stdout",
     "output_type": "stream",
     "text": [
      "Saisir taille de tableau :3\n",
      "Value put in :77\n",
      "Value put in :88\n",
      "Value put in :555\n",
      " Max Value : 555.0 and Position : 2\n"
     ]
    },
    {
     "data": {
      "text/plain": [
       "'x=0\\nfor j in range(len(tab)):\\n    k=0\\n    for k in range(len(tab)):\\n        if (tab[x]>=tab[k]):\\n            nbmax=tab[x]\\n            print(\"High Value {0} Position index {1}\".format(nbmax,k))\\n        else:\\n            nbmax=tab[k]\\n            print(\"High Value {0} Position index {1}\".format(nbmax,k))\\n    else: \\n        print(\"Highest value in a round {0} with index {1}\".format(nbmax,x))\\n        max_value=nbmax\\n        max_value_index=x\\n    x+=1\\n\\nelse:\\n    print(\"Highest value {0} with index {1}\".format(max_value,max_value_index))'"
      ]
     },
     "execution_count": 70,
     "metadata": {},
     "output_type": "execute_result"
    }
   ],
   "source": [
    "nb = int(input(\"Saisir taille de tableau :\"))\n",
    "i=0\n",
    "tab=[x for x in range(nb)]\n",
    "while(i!=(nb)):\n",
    "    tab[i]=float(input(\"Value put in :\"))\n",
    "    i+=1  \n",
    "\n",
    "def biggest(numbers:list)->float:\n",
    "    \n",
    "    largest=numbers[0]\n",
    "    \n",
    "    for i in range(1,nb):\n",
    "        if (largest<numbers[i]):\n",
    "            largest=numbers[i]\n",
    "    return largest\n",
    "\n",
    "def index(numbers:list)->float:\n",
    "    \n",
    "    largest=numbers[0]\n",
    "    \n",
    "    for j in range(1,nb):\n",
    "        if (largest<numbers[j]):\n",
    "            largest=numbers[j]\n",
    "            max_position=j\n",
    "    return max_position\n",
    "\n",
    "print(\" Max Value : {0} and Position : {1}\".format(biggest(tab),index(tab)))\n",
    "\n",
    "\n",
    "\"\"\"max_value= max(tab)\n",
    "max_index= tab.index(max_value)\n",
    "\n",
    "print(\"High Value {0} Position index {1}\".format(max_value,max_index))\"\"\"\n",
    "\"\"\"x=0\n",
    "for j in range(len(tab)):\n",
    "    k=0\n",
    "    for k in range(len(tab)):\n",
    "        if (tab[x]>=tab[k]):\n",
    "            nbmax=tab[x]\n",
    "            print(\"High Value {0} Position index {1}\".format(nbmax,k))\n",
    "        else:\n",
    "            nbmax=tab[k]\n",
    "            print(\"High Value {0} Position index {1}\".format(nbmax,k))\n",
    "    else: \n",
    "        print(\"Highest value in a round {0} with index {1}\".format(nbmax,x))\n",
    "        max_value=nbmax\n",
    "        max_value_index=x\n",
    "    x+=1\n",
    "\n",
    "else:\n",
    "    print(\"Highest value {0} with index {1}\".format(max_value,max_value_index))\"\"\"\n"
   ]
  },
  {
   "cell_type": "markdown",
   "metadata": {},
   "source": [
    "#### 3 Maths\n",
    "   #### 3.1 Le Temps d'arrêt"
   ]
  },
  {
   "cell_type": "code",
   "execution_count": 6,
   "metadata": {},
   "outputs": [
    {
     "name": "stdout",
     "output_type": "stream",
     "text": [
      "Saisir Valeur de alpha :17\n",
      "Valeur de n entier :  13562027\n"
     ]
    }
   ],
   "source": [
    "alpha=float(input(\"Saisir Valeur de alpha :\"))\n",
    "k=1\n",
    "n=0\n",
    "H=0\n",
    "\n",
    "while alpha>H :\n",
    "    H+=(1/k)\n",
    "    k+=1\n",
    "    n+=1\n",
    "else:\n",
    "    print(\"Valeur de n entier : \",n)"
   ]
  },
  {
   "cell_type": "markdown",
   "metadata": {},
   "source": [
    "#### Extra exercice Martice code"
   ]
  },
  {
   "cell_type": "code",
   "execution_count": 8,
   "metadata": {},
   "outputs": [
    {
     "name": "stdout",
     "output_type": "stream",
     "text": [
      "Ligne entry : 2\n",
      "Colomun entry : 1\n",
      "entry in row:  1  column:  1\n",
      "2\n",
      "entry in row:  2  column:  1\n",
      "2\n",
      "Matrix X :  [2]\n",
      "Matrix X :  [2]\n",
      "entry in row:  1  column:  1\n",
      "2\n",
      "entry in row:  2  column:  1\n",
      "2\n",
      "Matrix Y :  [2]\n",
      "Matrix Y :  [2]\n",
      "Multiple de deux Matrices X et Y \n"
     ]
    },
    {
     "ename": "IndexError",
     "evalue": "list index out of range",
     "output_type": "error",
     "traceback": [
      "\u001b[1;31m---------------------------------------------------------------------------\u001b[0m",
      "\u001b[1;31mIndexError\u001b[0m                                Traceback (most recent call last)",
      "\u001b[1;32m<ipython-input-8-bfd63b8e5fa0>\u001b[0m in \u001b[0;36m<module>\u001b[1;34m\u001b[0m\n\u001b[0;32m     40\u001b[0m     \u001b[1;32mfor\u001b[0m \u001b[0mj\u001b[0m \u001b[1;32min\u001b[0m \u001b[0mrange\u001b[0m\u001b[1;33m(\u001b[0m\u001b[1;36m0\u001b[0m\u001b[1;33m,\u001b[0m\u001b[0mlen\u001b[0m\u001b[1;33m(\u001b[0m\u001b[0mY\u001b[0m\u001b[1;33m[\u001b[0m\u001b[1;36m0\u001b[0m\u001b[1;33m]\u001b[0m\u001b[1;33m)\u001b[0m\u001b[1;33m)\u001b[0m\u001b[1;33m:\u001b[0m\u001b[1;33m\u001b[0m\u001b[1;33m\u001b[0m\u001b[0m\n\u001b[0;32m     41\u001b[0m         \u001b[1;32mfor\u001b[0m \u001b[0mk\u001b[0m \u001b[1;32min\u001b[0m \u001b[0mrange\u001b[0m\u001b[1;33m(\u001b[0m\u001b[1;36m0\u001b[0m\u001b[1;33m,\u001b[0m\u001b[0mlen\u001b[0m\u001b[1;33m(\u001b[0m\u001b[0mY\u001b[0m\u001b[1;33m)\u001b[0m\u001b[1;33m)\u001b[0m\u001b[1;33m:\u001b[0m\u001b[1;33m\u001b[0m\u001b[1;33m\u001b[0m\u001b[0m\n\u001b[1;32m---> 42\u001b[1;33m             \u001b[0mZ\u001b[0m\u001b[1;33m[\u001b[0m\u001b[0mi\u001b[0m\u001b[1;33m]\u001b[0m\u001b[1;33m[\u001b[0m\u001b[0mj\u001b[0m\u001b[1;33m]\u001b[0m\u001b[1;33m+=\u001b[0m\u001b[1;33m(\u001b[0m\u001b[1;33m(\u001b[0m\u001b[0mX\u001b[0m\u001b[1;33m[\u001b[0m\u001b[0mi\u001b[0m\u001b[1;33m]\u001b[0m\u001b[1;33m[\u001b[0m\u001b[0mk\u001b[0m\u001b[1;33m]\u001b[0m\u001b[1;33m)\u001b[0m\u001b[1;33m*\u001b[0m\u001b[1;33m(\u001b[0m\u001b[0mY\u001b[0m\u001b[1;33m[\u001b[0m\u001b[0mk\u001b[0m\u001b[1;33m]\u001b[0m\u001b[1;33m[\u001b[0m\u001b[0mj\u001b[0m\u001b[1;33m]\u001b[0m\u001b[1;33m)\u001b[0m\u001b[1;33m)\u001b[0m\u001b[1;33m\u001b[0m\u001b[1;33m\u001b[0m\u001b[0m\n\u001b[0m\u001b[0;32m     43\u001b[0m \u001b[1;32mfor\u001b[0m \u001b[0mr\u001b[0m \u001b[1;32min\u001b[0m \u001b[0mZ\u001b[0m\u001b[1;33m:\u001b[0m\u001b[1;33m\u001b[0m\u001b[1;33m\u001b[0m\u001b[0m\n\u001b[0;32m     44\u001b[0m     \u001b[0mprint\u001b[0m\u001b[1;33m(\u001b[0m\u001b[1;34m'Matrix Z : '\u001b[0m\u001b[1;33m,\u001b[0m\u001b[0mr\u001b[0m\u001b[1;33m)\u001b[0m\u001b[1;33m\u001b[0m\u001b[1;33m\u001b[0m\u001b[0m\n",
      "\u001b[1;31mIndexError\u001b[0m: list index out of range"
     ]
    }
   ],
   "source": [
    "l=int(input('Ligne entry : '))\n",
    "m=int(input('Colomun entry : '))\n",
    "\n",
    "X=[]\n",
    "Y=[]\n",
    "Z=[]\n",
    "\n",
    "for i in range(0,l):\n",
    "    X += [0]\n",
    "for i in range (0,l):\n",
    "    X[i] = [0]*m    #une forme pour créer une matrix avec uen Dimension voulu (désiré) multiplier par le colomun\n",
    "\n",
    "for i in range(0,l):\n",
    "    Y += [0]\n",
    "for i in range (0,l):\n",
    "    Y[i] = [0]*m  \n",
    "        \n",
    "for i in range(0,len(X)):\n",
    "    Z += [0]\n",
    "for i in range (0,len(Y)):\n",
    "    Z[i] = [0]*m  \n",
    "    \n",
    "for i in range(0,l):\n",
    "    for j in range(0,m):\n",
    "        print ('entry in row: ',i+1,' column: ',j+1)\n",
    "        X[i][j]=int(input())    \n",
    "for r in X:\n",
    "    print('Matrix X : ',r)\n",
    "    \n",
    "for i in range(0,l):\n",
    "    for j in range(0,m):\n",
    "        print ('entry in row: ',i+1,' column: ',j+1)\n",
    "        Y[i][j]=int(input())\n",
    "for r in Y:\n",
    "    print('Matrix Y : ',r)\n",
    "    \n",
    "print('Multiple de deux Matrices X et Y ')\n",
    "for i in range(0,len(X)):\n",
    "    for j in range(0,len(Y[0])):\n",
    "        for k in range(0,len(Y)):\n",
    "            Z[i][j]+=((X[i][k])*(Y[k][j]))\n",
    "for r in Z:\n",
    "    print('Matrix Z : ',r)"
   ]
  },
  {
   "cell_type": "markdown",
   "metadata": {},
   "source": [
    "\n",
    "#### 3.2 Petite equation"
   ]
  },
  {
   "cell_type": "code",
   "execution_count": null,
   "metadata": {},
   "outputs": [],
   "source": []
  },
  {
   "cell_type": "code",
   "execution_count": null,
   "metadata": {},
   "outputs": [],
   "source": []
  }
 ],
 "metadata": {
  "kernelspec": {
   "display_name": "Python 3",
   "language": "python",
   "name": "python3"
  },
  "toc": {
   "base_numbering": 1,
   "nav_menu": {},
   "number_sections": false,
   "sideBar": true,
   "skip_h1_title": false,
   "title_cell": "Table of Contents",
   "title_sidebar": "Contents",
   "toc_cell": false,
   "toc_position": {
    "height": "574.4px",
    "left": "460.8px",
    "top": "135.2px",
    "width": "212px"
   },
   "toc_section_display": true,
   "toc_window_display": true
  },
  "varInspector": {
   "cols": {
    "lenName": 16,
    "lenType": 16,
    "lenVar": 40
   },
   "kernels_config": {
    "python": {
     "delete_cmd_postfix": "",
     "delete_cmd_prefix": "del ",
     "library": "var_list.py",
     "varRefreshCmd": "print(var_dic_list())"
    },
    "r": {
     "delete_cmd_postfix": ") ",
     "delete_cmd_prefix": "rm(",
     "library": "var_list.r",
     "varRefreshCmd": "cat(var_dic_list()) "
    }
   },
   "oldHeight": 274.4,
   "position": {
    "height": "40px",
    "left": "1187px",
    "right": "20px",
    "top": "120px",
    "width": "329px"
   },
   "types_to_exclude": [
    "module",
    "function",
    "builtin_function_or_method",
    "instance",
    "_Feature"
   ],
   "varInspector_section_display": "none",
   "window_display": true
  }
 },
 "nbformat": 4,
 "nbformat_minor": 4
}
